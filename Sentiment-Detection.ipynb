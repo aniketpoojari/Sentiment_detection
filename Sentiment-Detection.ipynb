{
 "cells": [
  {
   "cell_type": "code",
   "execution_count": 1,
   "metadata": {
    "colab": {
     "base_uri": "https://localhost:8080/"
    },
    "executionInfo": {
     "elapsed": 23065,
     "status": "ok",
     "timestamp": 1612974997598,
     "user": {
      "displayName": "aniket poojari",
      "photoUrl": "https://lh3.googleusercontent.com/a-/AOh14Ggq_cw5GlJ_HceHGjFtLxCCLPqiYvg5ffKS76adUw=s64",
      "userId": "09624879631889696305"
     },
     "user_tz": -330
    },
    "id": "-74EumMCybGe",
    "outputId": "316be36e-96e1-4325-ab3b-ede65b2944bd"
   },
   "outputs": [
    {
     "name": "stdout",
     "output_type": "stream",
     "text": [
      "Mounted at /content/drive\n"
     ]
    }
   ],
   "source": [
    "from google.colab import drive\n",
    "drive.mount('/content/drive')"
   ]
  },
  {
   "cell_type": "markdown",
   "metadata": {
    "id": "-m0S2PkbzYkl"
   },
   "source": [
    "# IMPORTS"
   ]
  },
  {
   "cell_type": "code",
   "execution_count": 98,
   "metadata": {
    "executionInfo": {
     "elapsed": 946,
     "status": "ok",
     "timestamp": 1612977704490,
     "user": {
      "displayName": "aniket poojari",
      "photoUrl": "https://lh3.googleusercontent.com/a-/AOh14Ggq_cw5GlJ_HceHGjFtLxCCLPqiYvg5ffKS76adUw=s64",
      "userId": "09624879631889696305"
     },
     "user_tz": -330
    },
    "id": "K70PjhDNzZpC"
   },
   "outputs": [],
   "source": [
    "import re\n",
    "import pandas as pd\n",
    "import numpy as np\n",
    "pd.set_option('display.max_colwidth', 200)\n",
    "from bs4 import BeautifulSoup\n",
    "\n",
    "from sklearn.model_selection import train_test_split\n",
    "from sklearn import metrics\n",
    "\n",
    "from keras.preprocessing.text import Tokenizer\n",
    "from keras.preprocessing.sequence import pad_sequences\n",
    "from keras.models import *\n",
    "from keras.layers import *\n",
    "from keras.callbacks import *"
   ]
  },
  {
   "cell_type": "markdown",
   "metadata": {
    "id": "DmCDRLYhzeyv"
   },
   "source": [
    "# LOADING FILE"
   ]
  },
  {
   "cell_type": "code",
   "execution_count": 3,
   "metadata": {
    "executionInfo": {
     "elapsed": 1422,
     "status": "ok",
     "timestamp": 1612975122120,
     "user": {
      "displayName": "aniket poojari",
      "photoUrl": "https://lh3.googleusercontent.com/a-/AOh14Ggq_cw5GlJ_HceHGjFtLxCCLPqiYvg5ffKS76adUw=s64",
      "userId": "09624879631889696305"
     },
     "user_tz": -330
    },
    "id": "qjIY8pPkzggM"
   },
   "outputs": [],
   "source": [
    "df = pd.read_csv('drive/MyDrive/Sentiment-Detection/train.csv',encoding='latin-1')"
   ]
  },
  {
   "cell_type": "code",
   "execution_count": 4,
   "metadata": {
    "colab": {
     "base_uri": "https://localhost:8080/",
     "height": 195
    },
    "executionInfo": {
     "elapsed": 915,
     "status": "ok",
     "timestamp": 1612975128856,
     "user": {
      "displayName": "aniket poojari",
      "photoUrl": "https://lh3.googleusercontent.com/a-/AOh14Ggq_cw5GlJ_HceHGjFtLxCCLPqiYvg5ffKS76adUw=s64",
      "userId": "09624879631889696305"
     },
     "user_tz": -330
    },
    "id": "swlXg-1xzyD7",
    "outputId": "689ea9c2-4f02-40ec-960d-8aa2ec2b67a7"
   },
   "outputs": [
    {
     "data": {
      "text/html": [
       "<div>\n",
       "<style scoped>\n",
       "    .dataframe tbody tr th:only-of-type {\n",
       "        vertical-align: middle;\n",
       "    }\n",
       "\n",
       "    .dataframe tbody tr th {\n",
       "        vertical-align: top;\n",
       "    }\n",
       "\n",
       "    .dataframe thead th {\n",
       "        text-align: right;\n",
       "    }\n",
       "</style>\n",
       "<table border=\"1\" class=\"dataframe\">\n",
       "  <thead>\n",
       "    <tr style=\"text-align: right;\">\n",
       "      <th></th>\n",
       "      <th>id</th>\n",
       "      <th>label</th>\n",
       "      <th>tweet</th>\n",
       "    </tr>\n",
       "  </thead>\n",
       "  <tbody>\n",
       "    <tr>\n",
       "      <th>0</th>\n",
       "      <td>1</td>\n",
       "      <td>0</td>\n",
       "      <td>#fingerprint #Pregnancy Test https://goo.gl/h1...</td>\n",
       "    </tr>\n",
       "    <tr>\n",
       "      <th>1</th>\n",
       "      <td>2</td>\n",
       "      <td>0</td>\n",
       "      <td>Finally a transparant silicon case ^^ Thanks t...</td>\n",
       "    </tr>\n",
       "    <tr>\n",
       "      <th>2</th>\n",
       "      <td>3</td>\n",
       "      <td>0</td>\n",
       "      <td>We love this! Would you go? #talk #makememorie...</td>\n",
       "    </tr>\n",
       "    <tr>\n",
       "      <th>3</th>\n",
       "      <td>4</td>\n",
       "      <td>0</td>\n",
       "      <td>I'm wired I know I'm George I was made that wa...</td>\n",
       "    </tr>\n",
       "    <tr>\n",
       "      <th>4</th>\n",
       "      <td>5</td>\n",
       "      <td>1</td>\n",
       "      <td>What amazing service! Apple won't even talk to...</td>\n",
       "    </tr>\n",
       "  </tbody>\n",
       "</table>\n",
       "</div>"
      ],
      "text/plain": [
       "   id  label                                              tweet\n",
       "0   1      0  #fingerprint #Pregnancy Test https://goo.gl/h1...\n",
       "1   2      0  Finally a transparant silicon case ^^ Thanks t...\n",
       "2   3      0  We love this! Would you go? #talk #makememorie...\n",
       "3   4      0  I'm wired I know I'm George I was made that wa...\n",
       "4   5      1  What amazing service! Apple won't even talk to..."
      ]
     },
     "execution_count": 4,
     "metadata": {
      "tags": []
     },
     "output_type": "execute_result"
    }
   ],
   "source": [
    "df.head()"
   ]
  },
  {
   "cell_type": "markdown",
   "metadata": {
    "id": "Xl8YdV_uz5E8"
   },
   "source": [
    "# TEXT CLEANING"
   ]
  },
  {
   "cell_type": "code",
   "execution_count": 62,
   "metadata": {
    "executionInfo": {
     "elapsed": 920,
     "status": "ok",
     "timestamp": 1612976337197,
     "user": {
      "displayName": "aniket poojari",
      "photoUrl": "https://lh3.googleusercontent.com/a-/AOh14Ggq_cw5GlJ_HceHGjFtLxCCLPqiYvg5ffKS76adUw=s64",
      "userId": "09624879631889696305"
     },
     "user_tz": -330
    },
    "id": "XheTStZczz1R"
   },
   "outputs": [],
   "source": [
    "def cleaner(text):\n",
    "  text = re.sub(\"https\\S+ \", \" \", text)\n",
    "  text = BeautifulSoup(text).get_text()\n",
    "  text = re.sub(\"[^a-zA-Z]\", \" \", text)\n",
    "  text = text.lower()\n",
    "  tokens = text.split()\n",
    "  return \" \".join(tokens)"
   ]
  },
  {
   "cell_type": "code",
   "execution_count": 63,
   "metadata": {
    "executionInfo": {
     "elapsed": 2294,
     "status": "ok",
     "timestamp": 1612976340039,
     "user": {
      "displayName": "aniket poojari",
      "photoUrl": "https://lh3.googleusercontent.com/a-/AOh14Ggq_cw5GlJ_HceHGjFtLxCCLPqiYvg5ffKS76adUw=s64",
      "userId": "09624879631889696305"
     },
     "user_tz": -330
    },
    "id": "pCxJpN6Sz-U-"
   },
   "outputs": [],
   "source": [
    "df['cleaned_text'] = df['tweet'].apply(cleaner)"
   ]
  },
  {
   "cell_type": "code",
   "execution_count": 64,
   "metadata": {
    "colab": {
     "base_uri": "https://localhost:8080/",
     "height": 195
    },
    "executionInfo": {
     "elapsed": 648,
     "status": "ok",
     "timestamp": 1612976341553,
     "user": {
      "displayName": "aniket poojari",
      "photoUrl": "https://lh3.googleusercontent.com/a-/AOh14Ggq_cw5GlJ_HceHGjFtLxCCLPqiYvg5ffKS76adUw=s64",
      "userId": "09624879631889696305"
     },
     "user_tz": -330
    },
    "id": "BnP8HBC40HS5",
    "outputId": "566adc91-08b8-4abb-9607-3275cf9e3f72"
   },
   "outputs": [
    {
     "data": {
      "text/html": [
       "<div>\n",
       "<style scoped>\n",
       "    .dataframe tbody tr th:only-of-type {\n",
       "        vertical-align: middle;\n",
       "    }\n",
       "\n",
       "    .dataframe tbody tr th {\n",
       "        vertical-align: top;\n",
       "    }\n",
       "\n",
       "    .dataframe thead th {\n",
       "        text-align: right;\n",
       "    }\n",
       "</style>\n",
       "<table border=\"1\" class=\"dataframe\">\n",
       "  <thead>\n",
       "    <tr style=\"text-align: right;\">\n",
       "      <th></th>\n",
       "      <th>id</th>\n",
       "      <th>label</th>\n",
       "      <th>tweet</th>\n",
       "      <th>cleaned_text</th>\n",
       "    </tr>\n",
       "  </thead>\n",
       "  <tbody>\n",
       "    <tr>\n",
       "      <th>0</th>\n",
       "      <td>1</td>\n",
       "      <td>0</td>\n",
       "      <td>#fingerprint #Pregnancy Test https://goo.gl/h1...</td>\n",
       "      <td>fingerprint pregnancy test android apps beauti...</td>\n",
       "    </tr>\n",
       "    <tr>\n",
       "      <th>1</th>\n",
       "      <td>2</td>\n",
       "      <td>0</td>\n",
       "      <td>Finally a transparant silicon case ^^ Thanks t...</td>\n",
       "      <td>finally a transparant silicon case thanks to m...</td>\n",
       "    </tr>\n",
       "    <tr>\n",
       "      <th>2</th>\n",
       "      <td>3</td>\n",
       "      <td>0</td>\n",
       "      <td>We love this! Would you go? #talk #makememorie...</td>\n",
       "      <td>we love this would you go talk makememories un...</td>\n",
       "    </tr>\n",
       "    <tr>\n",
       "      <th>3</th>\n",
       "      <td>4</td>\n",
       "      <td>0</td>\n",
       "      <td>I'm wired I know I'm George I was made that wa...</td>\n",
       "      <td>i m wired i know i m george i was made that wa...</td>\n",
       "    </tr>\n",
       "    <tr>\n",
       "      <th>4</th>\n",
       "      <td>5</td>\n",
       "      <td>1</td>\n",
       "      <td>What amazing service! Apple won't even talk to...</td>\n",
       "      <td>what amazing service apple won t even talk to ...</td>\n",
       "    </tr>\n",
       "  </tbody>\n",
       "</table>\n",
       "</div>"
      ],
      "text/plain": [
       "   id  ...                                       cleaned_text\n",
       "0   1  ...  fingerprint pregnancy test android apps beauti...\n",
       "1   2  ...  finally a transparant silicon case thanks to m...\n",
       "2   3  ...  we love this would you go talk makememories un...\n",
       "3   4  ...  i m wired i know i m george i was made that wa...\n",
       "4   5  ...  what amazing service apple won t even talk to ...\n",
       "\n",
       "[5 rows x 4 columns]"
      ]
     },
     "execution_count": 64,
     "metadata": {
      "tags": []
     },
     "output_type": "execute_result"
    }
   ],
   "source": [
    "df.head()"
   ]
  },
  {
   "cell_type": "markdown",
   "metadata": {
    "id": "83W7FrGr4qFN"
   },
   "source": [
    "# TRAIN TEST SPLIT"
   ]
  },
  {
   "cell_type": "code",
   "execution_count": 68,
   "metadata": {
    "executionInfo": {
     "elapsed": 1133,
     "status": "ok",
     "timestamp": 1612976559850,
     "user": {
      "displayName": "aniket poojari",
      "photoUrl": "https://lh3.googleusercontent.com/a-/AOh14Ggq_cw5GlJ_HceHGjFtLxCCLPqiYvg5ffKS76adUw=s64",
      "userId": "09624879631889696305"
     },
     "user_tz": -330
    },
    "id": "BcdNDjxI0gEr"
   },
   "outputs": [],
   "source": [
    "x_tr,x_val,y_tr,y_val=train_test_split(df[\"cleaned_text\"], df[\"label\"], test_size=0.2, random_state=0,shuffle=True)"
   ]
  },
  {
   "cell_type": "markdown",
   "metadata": {
    "id": "MalPCg7q5fIQ"
   },
   "source": [
    "# TEXT REPRESTATION"
   ]
  },
  {
   "cell_type": "code",
   "execution_count": 69,
   "metadata": {
    "executionInfo": {
     "elapsed": 1012,
     "status": "ok",
     "timestamp": 1612976648808,
     "user": {
      "displayName": "aniket poojari",
      "photoUrl": "https://lh3.googleusercontent.com/a-/AOh14Ggq_cw5GlJ_HceHGjFtLxCCLPqiYvg5ffKS76adUw=s64",
      "userId": "09624879631889696305"
     },
     "user_tz": -330
    },
    "id": "UQHqpBjT5J6s"
   },
   "outputs": [],
   "source": [
    "x_tokenizer = Tokenizer()"
   ]
  },
  {
   "cell_type": "code",
   "execution_count": 70,
   "metadata": {
    "executionInfo": {
     "elapsed": 973,
     "status": "ok",
     "timestamp": 1612976657556,
     "user": {
      "displayName": "aniket poojari",
      "photoUrl": "https://lh3.googleusercontent.com/a-/AOh14Ggq_cw5GlJ_HceHGjFtLxCCLPqiYvg5ffKS76adUw=s64",
      "userId": "09624879631889696305"
     },
     "user_tz": -330
    },
    "id": "Vdx074KJ5m41"
   },
   "outputs": [],
   "source": [
    "x_tokenizer.fit_on_texts(x_tr)"
   ]
  },
  {
   "cell_type": "code",
   "execution_count": 71,
   "metadata": {
    "colab": {
     "base_uri": "https://localhost:8080/"
    },
    "executionInfo": {
     "elapsed": 1061,
     "status": "ok",
     "timestamp": 1612976671146,
     "user": {
      "displayName": "aniket poojari",
      "photoUrl": "https://lh3.googleusercontent.com/a-/AOh14Ggq_cw5GlJ_HceHGjFtLxCCLPqiYvg5ffKS76adUw=s64",
      "userId": "09624879631889696305"
     },
     "user_tz": -330
    },
    "id": "np9NXqBu5pCQ",
    "outputId": "f711ba4c-7410-43b7-c4df-7501225e1966"
   },
   "outputs": [
    {
     "data": {
      "text/plain": [
       "{'iphone': 1,\n",
       " 'http': 2,\n",
       " 'com': 3,\n",
       " 'apple': 4,\n",
       " 'p': 5,\n",
       " 'i': 6,\n",
       " 'my': 7,\n",
       " 'instagram': 8,\n",
       " 'the': 9,\n",
       " 'to': 10,\n",
       " 'a': 11,\n",
       " 'samsung': 12,\n",
       " 'it': 13,\n",
       " 'and': 14,\n",
       " 's': 15,\n",
       " 'for': 16,\n",
       " 'new': 17,\n",
       " 'twitter': 18,\n",
       " 'me': 19,\n",
       " 'you': 20,\n",
       " 'phone': 21,\n",
       " 'is': 22,\n",
       " 'am': 23,\n",
       " 'sony': 24,\n",
       " 'instagr': 25,\n",
       " 'follow': 26,\n",
       " 'in': 27,\n",
       " 't': 28,\n",
       " 'on': 29,\n",
       " 'of': 30,\n",
       " 'this': 31,\n",
       " 'pic': 32,\n",
       " 'with': 33,\n",
       " 'https': 34,\n",
       " 'ipad': 35,\n",
       " 'like': 36,\n",
       " 'so': 37,\n",
       " 'www': 38,\n",
       " 'love': 39,\n",
       " 'just': 40,\n",
       " 'at': 41,\n",
       " 'have': 42,\n",
       " 'ios': 43,\n",
       " 'android': 44,\n",
       " 'life': 45,\n",
       " 'm': 46,\n",
       " 'rt': 47,\n",
       " 'now': 48,\n",
       " 'that': 49,\n",
       " 'all': 50,\n",
       " 'your': 51,\n",
       " 'day': 52,\n",
       " 'an': 53,\n",
       " 'can': 54,\n",
       " 'ly': 55,\n",
       " 'not': 56,\n",
       " 'photo': 57,\n",
       " 'cute': 58,\n",
       " 'gain': 59,\n",
       " 'get': 60,\n",
       " 'galaxy': 61,\n",
       " 'today': 62,\n",
       " 'case': 63,\n",
       " 'back': 64,\n",
       " 'be': 65,\n",
       " 'photography': 66,\n",
       " 'news': 67,\n",
       " 'got': 68,\n",
       " 'fun': 69,\n",
       " 'from': 70,\n",
       " 'music': 71,\n",
       " 'd': 72,\n",
       " 'app': 73,\n",
       " 'bit': 74,\n",
       " 'instagood': 75,\n",
       " 'out': 76,\n",
       " 'happy': 77,\n",
       " 'time': 78,\n",
       " 'who': 79,\n",
       " 'beautiful': 80,\n",
       " 'fashion': 81,\n",
       " 'are': 82,\n",
       " 'but': 83,\n",
       " 'funny': 84,\n",
       " 'if': 85,\n",
       " 'lol': 86,\n",
       " 'smile': 87,\n",
       " 'when': 88,\n",
       " 'tech': 89,\n",
       " 'co': 90,\n",
       " 'itunes': 91,\n",
       " 'up': 92,\n",
       " 'u': 93,\n",
       " 'one': 94,\n",
       " 'we': 95,\n",
       " 'ps': 96,\n",
       " 'birthday': 97,\n",
       " 'apps': 98,\n",
       " 'no': 99,\n",
       " 'iphonex': 100,\n",
       " 'b': 101,\n",
       " 'work': 102,\n",
       " 'ipod': 103,\n",
       " 'good': 104,\n",
       " 'finally': 105,\n",
       " 'everyone': 106,\n",
       " 'photooftheday': 107,\n",
       " 'amazing': 108,\n",
       " 'why': 109,\n",
       " 'girl': 110,\n",
       " 'update': 111,\n",
       " 'what': 112,\n",
       " 'selfie': 113,\n",
       " 'make': 114,\n",
       " 'how': 115,\n",
       " 'more': 116,\n",
       " 'x': 117,\n",
       " 'must': 118,\n",
       " 'mac': 119,\n",
       " 'followers': 120,\n",
       " 'they': 121,\n",
       " 'sougofollow': 122,\n",
       " 'by': 123,\n",
       " 'note': 124,\n",
       " 'about': 125,\n",
       " 'as': 126,\n",
       " 'tmblr': 127,\n",
       " 'will': 128,\n",
       " 'thanks': 129,\n",
       " 'free': 130,\n",
       " 'g': 131,\n",
       " 'or': 132,\n",
       " 'fail': 133,\n",
       " 'rts': 134,\n",
       " 'off': 135,\n",
       " 'don': 136,\n",
       " 'has': 137,\n",
       " 'do': 138,\n",
       " 'was': 139,\n",
       " 'f': 140,\n",
       " 'friends': 141,\n",
       " 'tt': 142,\n",
       " 'would': 143,\n",
       " 'k': 144,\n",
       " 'fuck': 145,\n",
       " 'want': 146,\n",
       " 'igers': 147,\n",
       " 'hate': 148,\n",
       " 'c': 149,\n",
       " 'baby': 150,\n",
       " 'best': 151,\n",
       " 'iphonesia': 152,\n",
       " 'gift': 153,\n",
       " 'r': 154,\n",
       " 'w': 155,\n",
       " 'camera': 156,\n",
       " 'home': 157,\n",
       " 'summer': 158,\n",
       " 'cool': 159,\n",
       " 'art': 160,\n",
       " 'family': 161,\n",
       " 'z': 162,\n",
       " 'christmas': 163,\n",
       " 'health': 164,\n",
       " 'only': 165,\n",
       " 'fucking': 166,\n",
       " 'mobile': 167,\n",
       " 'e': 168,\n",
       " 'v': 169,\n",
       " 'l': 170,\n",
       " 'picoftheday': 171,\n",
       " 'live': 172,\n",
       " 'iphoneonly': 173,\n",
       " 'every': 174,\n",
       " 'smartphone': 175,\n",
       " 'had': 176,\n",
       " 'here': 177,\n",
       " 'o': 178,\n",
       " 'n': 179,\n",
       " 'plus': 180,\n",
       " 'go': 181,\n",
       " 've': 182,\n",
       " 'much': 183,\n",
       " 'h': 184,\n",
       " 'game': 185,\n",
       " 'awesome': 186,\n",
       " 'j': 187,\n",
       " 'games': 188,\n",
       " 'macbook': 189,\n",
       " 'need': 190,\n",
       " 'its': 191,\n",
       " 'still': 192,\n",
       " 'look': 193,\n",
       " 'know': 194,\n",
       " 'white': 195,\n",
       " 'y': 196,\n",
       " 'motorola': 197,\n",
       " 'fb': 198,\n",
       " 'ever': 199,\n",
       " 'money': 200,\n",
       " 'thank': 201,\n",
       " 'dlvr': 202,\n",
       " 'because': 203,\n",
       " 'windows': 204,\n",
       " 'charger': 205,\n",
       " 'sale': 206,\n",
       " 'laptop': 207,\n",
       " 'products': 208,\n",
       " 'even': 209,\n",
       " 'our': 210,\n",
       " 'buy': 211,\n",
       " 'after': 212,\n",
       " 'instamood': 213,\n",
       " 'there': 214,\n",
       " 'screen': 215,\n",
       " 'followme': 216,\n",
       " 'beauty': 217,\n",
       " 'use': 218,\n",
       " 'nature': 219,\n",
       " 'them': 220,\n",
       " 'style': 221,\n",
       " 'great': 222,\n",
       " 'ift': 223,\n",
       " 'people': 224,\n",
       " 'sexy': 225,\n",
       " 'night': 226,\n",
       " 'going': 227,\n",
       " 'again': 228,\n",
       " 'wish': 229,\n",
       " 'black': 230,\n",
       " 'than': 231,\n",
       " 'over': 232,\n",
       " 'download': 233,\n",
       " 'been': 234,\n",
       " 'q': 235,\n",
       " 'accessories': 236,\n",
       " 'excited': 237,\n",
       " 'pink': 238,\n",
       " 'utm': 239,\n",
       " 'technology': 240,\n",
       " 'nice': 241,\n",
       " 'gb': 242,\n",
       " 'morning': 243,\n",
       " 'minute': 244,\n",
       " 'last': 245,\n",
       " 'playstation': 246,\n",
       " 'everything': 247,\n",
       " 'year': 248,\n",
       " 'never': 249,\n",
       " 'tv': 250,\n",
       " 'ff': 251,\n",
       " 'thing': 252,\n",
       " 'then': 253,\n",
       " 'us': 254,\n",
       " 'retweet': 255,\n",
       " 'old': 256,\n",
       " 'too': 257,\n",
       " 'tweet': 258,\n",
       " 'google': 259,\n",
       " 'store': 260,\n",
       " 'working': 261,\n",
       " 'won': 262,\n",
       " 'shopping': 263,\n",
       " 'watch': 264,\n",
       " 'say': 265,\n",
       " 'cases': 266,\n",
       " 'colors': 267,\n",
       " 'really': 268,\n",
       " 'via': 269,\n",
       " 'galaxys': 270,\n",
       " 'instadaily': 271,\n",
       " 'pretty': 272,\n",
       " 'first': 273,\n",
       " 'suck': 274,\n",
       " 'some': 275,\n",
       " 'right': 276,\n",
       " 'sweet': 277,\n",
       " 'gaming': 278,\n",
       " 'friday': 279,\n",
       " 'made': 280,\n",
       " 'photos': 281,\n",
       " 'stupid': 282,\n",
       " 'yay': 283,\n",
       " 'fuckyou': 284,\n",
       " 'well': 285,\n",
       " 'sun': 286,\n",
       " 'their': 287,\n",
       " 'world': 288,\n",
       " 'ig': 289,\n",
       " 'hours': 290,\n",
       " 'think': 291,\n",
       " 'red': 292,\n",
       " 'another': 293,\n",
       " 'boy': 294,\n",
       " 'youtube': 295,\n",
       " 'gl': 296,\n",
       " 'any': 297,\n",
       " 'hey': 298,\n",
       " 'travel': 299,\n",
       " 'check': 300,\n",
       " 'cover': 301,\n",
       " 'food': 302,\n",
       " 'blue': 303,\n",
       " 'count': 304,\n",
       " 'computer': 305,\n",
       " 'video': 306,\n",
       " 'laugh': 307,\n",
       " 'getting': 308,\n",
       " 'appstore': 309,\n",
       " 'ebay': 310,\n",
       " 'ow': 311,\n",
       " 'green': 312,\n",
       " 'customer': 313,\n",
       " 'battery': 314,\n",
       " 're': 315,\n",
       " 'phones': 316,\n",
       " 'let': 317,\n",
       " 'uk': 318,\n",
       " 'tls': 319,\n",
       " 'better': 320,\n",
       " 'doesn': 321,\n",
       " 'big': 322,\n",
       " 'sunset': 323,\n",
       " 'happiness': 324,\n",
       " 'nokia': 325,\n",
       " 'keep': 326,\n",
       " 'does': 327,\n",
       " 'amazon': 328,\n",
       " 'headphones': 329,\n",
       " 'always': 330,\n",
       " 'wait': 331,\n",
       " 'see': 332,\n",
       " 'instapic': 333,\n",
       " 'oh': 334,\n",
       " 'trying': 335,\n",
       " 'hello': 336,\n",
       " 'days': 337,\n",
       " 'goo': 338,\n",
       " 'gold': 339,\n",
       " 'macbookpro': 340,\n",
       " 'guys': 341,\n",
       " 'lost': 342,\n",
       " 'iphoneography': 343,\n",
       " 'share': 344,\n",
       " 'take': 345,\n",
       " 'kids': 346,\n",
       " 'xperia': 347,\n",
       " 'dog': 348,\n",
       " 'io': 349,\n",
       " 'sunday': 350,\n",
       " 'th': 351,\n",
       " 'design': 352,\n",
       " 'doing': 353,\n",
       " 'blackberry': 354,\n",
       " 'beach': 355,\n",
       " 'followback': 356,\n",
       " 'hot': 357,\n",
       " 'present': 358,\n",
       " 'll': 359,\n",
       " 'html': 360,\n",
       " 'wow': 361,\n",
       " 'did': 362,\n",
       " 'facebook': 363,\n",
       " 'come': 364,\n",
       " 'bought': 365,\n",
       " 'hateapple': 366,\n",
       " 'week': 367,\n",
       " 'weekend': 368,\n",
       " 'product': 369,\n",
       " 'mf': 370,\n",
       " 'fix': 371,\n",
       " 'sucks': 372,\n",
       " 'twitch': 373,\n",
       " 'put': 374,\n",
       " 'zpr': 375,\n",
       " 'sky': 376,\n",
       " 'myself': 377,\n",
       " 'insta': 378,\n",
       " 'since': 379,\n",
       " 'girls': 380,\n",
       " 'please': 381,\n",
       " 'ya': 382,\n",
       " 'capetown': 383,\n",
       " 'upgrade': 384,\n",
       " 'yeah': 385,\n",
       " 'he': 386,\n",
       " 'two': 387,\n",
       " 'way': 388,\n",
       " 'tweegram': 389,\n",
       " 'service': 390,\n",
       " 'came': 391,\n",
       " 'face': 392,\n",
       " 'years': 393,\n",
       " 'text': 394,\n",
       " 'shop': 395,\n",
       " 'surf': 396,\n",
       " 'newyear': 397,\n",
       " 'hard': 398,\n",
       " 'find': 399,\n",
       " 'capetownsup': 400,\n",
       " 'sup': 401,\n",
       " 'using': 402,\n",
       " 'book': 403,\n",
       " 'party': 404,\n",
       " 'yes': 405,\n",
       " 'play': 406,\n",
       " 'oneplus': 407,\n",
       " 'microsoft': 408,\n",
       " 'try': 409,\n",
       " 'wifi': 410,\n",
       " 'down': 411,\n",
       " 'offers': 412,\n",
       " 'gamer': 413,\n",
       " 'help': 414,\n",
       " 'these': 415,\n",
       " 'newphone': 416,\n",
       " 'net': 417,\n",
       " 'mine': 418,\n",
       " 'top': 419,\n",
       " 'could': 420,\n",
       " 'sales': 421,\n",
       " 'deleted': 422,\n",
       " 'pro': 423,\n",
       " 'siri': 424,\n",
       " 'vsco': 425,\n",
       " 'cat': 426,\n",
       " 'gonna': 427,\n",
       " 'dear': 428,\n",
       " 'heart': 429,\n",
       " 'coming': 430,\n",
       " 'crazy': 431,\n",
       " 'hair': 432,\n",
       " 'pictures': 433,\n",
       " 'took': 434,\n",
       " 'give': 435,\n",
       " 'her': 436,\n",
       " 'seriously': 437,\n",
       " 'god': 438,\n",
       " 'saturday': 439,\n",
       " 'swag': 440,\n",
       " 'didn': 441,\n",
       " 'coffee': 442,\n",
       " 'reallyreal': 443,\n",
       " 'dating': 444,\n",
       " 'support': 445,\n",
       " 'social': 446,\n",
       " 'picture': 447,\n",
       " 'little': 448,\n",
       " 'hour': 449,\n",
       " 'reason': 450,\n",
       " 'while': 451,\n",
       " 'friend': 452,\n",
       " 'done': 453,\n",
       " 'tablet': 454,\n",
       " 'man': 455,\n",
       " 'nofilter': 456,\n",
       " 'charge': 457,\n",
       " 'im': 458,\n",
       " 'other': 459,\n",
       " 'miss': 460,\n",
       " 'usa': 461,\n",
       " 'pay': 462,\n",
       " 'should': 463,\n",
       " 'blog': 464,\n",
       " 'into': 465,\n",
       " 'updated': 466,\n",
       " 'makes': 467,\n",
       " 'cable': 468,\n",
       " 'very': 469,\n",
       " 'ago': 470,\n",
       " 'holiday': 471,\n",
       " 'jobs': 472,\n",
       " 'quote': 473,\n",
       " 'welcome': 474,\n",
       " 'next': 475,\n",
       " 'enjoy': 476,\n",
       " 'long': 477,\n",
       " 'she': 478,\n",
       " 'loving': 479,\n",
       " 'things': 480,\n",
       " 'fast': 481,\n",
       " 'toys': 482,\n",
       " 'broken': 483,\n",
       " 'being': 484,\n",
       " 'already': 485,\n",
       " 'tbt': 486,\n",
       " 'waiting': 487,\n",
       " 'campaign': 488,\n",
       " 'joy': 489,\n",
       " 'haha': 490,\n",
       " 'switch': 491,\n",
       " 'nothing': 492,\n",
       " 'business': 493,\n",
       " 'months': 494,\n",
       " 'power': 495,\n",
       " 'gay': 496,\n",
       " 'random': 497,\n",
       " 'may': 498,\n",
       " 'piece': 499,\n",
       " 'yet': 500,\n",
       " 'before': 501,\n",
       " 'trip': 502,\n",
       " 'model': 503,\n",
       " 'where': 504,\n",
       " 'tab': 505,\n",
       " 'anyone': 506,\n",
       " 'arrived': 507,\n",
       " 'bestprice': 508,\n",
       " 'show': 509,\n",
       " 'nyc': 510,\n",
       " 'ready': 511,\n",
       " 'luxury': 512,\n",
       " 'enough': 513,\n",
       " 'teamfollowback': 514,\n",
       " 'company': 515,\n",
       " 'fresh': 516,\n",
       " 'deals': 517,\n",
       " 'song': 518,\n",
       " 'early': 519,\n",
       " 'mp': 520,\n",
       " 'works': 521,\n",
       " 'instago': 522,\n",
       " 'something': 523,\n",
       " 'discount': 524,\n",
       " 'water': 525,\n",
       " 'code': 526,\n",
       " 'dont': 527,\n",
       " 'house': 528,\n",
       " 'shit': 529,\n",
       " 'toy': 530,\n",
       " 'gd': 531,\n",
       " 'start': 532,\n",
       " 'pc': 533,\n",
       " 'source': 534,\n",
       " 'blessed': 535,\n",
       " 'couple': 536,\n",
       " 'portrait': 537,\n",
       " 'favorite': 538,\n",
       " 'making': 539,\n",
       " 'spring': 540,\n",
       " 'pm': 541,\n",
       " 'many': 542,\n",
       " 'real': 543,\n",
       " 'ok': 544,\n",
       " 'feel': 545,\n",
       " 'available': 546,\n",
       " 'gadget': 547,\n",
       " 'followsunday': 548,\n",
       " 'valentine': 549,\n",
       " 'stuff': 550,\n",
       " 'job': 551,\n",
       " 'color': 552,\n",
       " 'mini': 553,\n",
       " 'looks': 554,\n",
       " 'peace': 555,\n",
       " 'pissed': 556,\n",
       " 'someone': 557,\n",
       " 'usb': 558,\n",
       " 'most': 559,\n",
       " 'os': 560,\n",
       " 'sad': 561,\n",
       " 'restore': 562,\n",
       " 'stop': 563,\n",
       " 'mom': 564,\n",
       " 'gone': 565,\n",
       " 'dad': 566,\n",
       " 'monday': 567,\n",
       " 'phonecase': 568,\n",
       " 'hope': 569,\n",
       " 'having': 570,\n",
       " 'college': 571,\n",
       " 'unlocked': 572,\n",
       " 'imessage': 573,\n",
       " 'relax': 574,\n",
       " 'soon': 575,\n",
       " 'london': 576,\n",
       " 'india': 577,\n",
       " 'rhymes': 578,\n",
       " 'rhymeapp': 579,\n",
       " 'rhyme': 580,\n",
       " 'taken': 581,\n",
       " 'software': 582,\n",
       " 'without': 583,\n",
       " 'flower': 584,\n",
       " 'xbox': 585,\n",
       " 'smart': 586,\n",
       " 'anything': 587,\n",
       " 'turn': 588,\n",
       " 'italy': 589,\n",
       " 'jj': 590,\n",
       " 'change': 591,\n",
       " 'instalike': 592,\n",
       " 'gifts': 593,\n",
       " 'car': 594,\n",
       " 'same': 595,\n",
       " 'chargers': 596,\n",
       " 'listen': 597,\n",
       " 'minutes': 598,\n",
       " 'popular': 599,\n",
       " 'galaxynote': 600,\n",
       " 'bad': 601,\n",
       " 'verizon': 602,\n",
       " 'husband': 603,\n",
       " 'single': 604,\n",
       " 'instalove': 605,\n",
       " 'greenrobot': 606,\n",
       " 'also': 607,\n",
       " 'florida': 608,\n",
       " 'lg': 609,\n",
       " 'mr': 610,\n",
       " 'moment': 611,\n",
       " 'htc': 612,\n",
       " 'password': 613,\n",
       " 'medium': 614,\n",
       " 'win': 615,\n",
       " 'worst': 616,\n",
       " 'sonya': 617,\n",
       " 'lifestyle': 618,\n",
       " 'igdaily': 619,\n",
       " 'break': 620,\n",
       " 'quotes': 621,\n",
       " 'device': 622,\n",
       " 'care': 623,\n",
       " 'geek': 624,\n",
       " 'sync': 625,\n",
       " 'air': 626,\n",
       " 'perfect': 627,\n",
       " 'gratitude': 628,\n",
       " 'his': 629,\n",
       " 'brand': 630,\n",
       " 'steve': 631,\n",
       " 'applewatch': 632,\n",
       " 'which': 633,\n",
       " 'thailand': 634,\n",
       " 'photographer': 635,\n",
       " 'daughter': 636,\n",
       " 'users': 637,\n",
       " 'call': 638,\n",
       " 'used': 639,\n",
       " 'fruit': 640,\n",
       " 'said': 641,\n",
       " 'isn': 642,\n",
       " 'charging': 643,\n",
       " 'gadgets': 644,\n",
       " 'maps': 645,\n",
       " 'actually': 646,\n",
       " 'until': 647,\n",
       " 'fixed': 648,\n",
       " 'kiss': 649,\n",
       " 'songs': 650,\n",
       " 'once': 651,\n",
       " 'healthy': 652,\n",
       " 'super': 653,\n",
       " 'creative': 654,\n",
       " 'instacool': 655,\n",
       " 'ugh': 656,\n",
       " 'tree': 657,\n",
       " 'instahub': 658,\n",
       " 'puppy': 659,\n",
       " 'sonyphotography': 660,\n",
       " 'version': 661,\n",
       " 'tell': 662,\n",
       " 'image': 663,\n",
       " 'broke': 664,\n",
       " 'feeling': 665,\n",
       " 'psn': 666,\n",
       " 'features': 667,\n",
       " 'contacts': 668,\n",
       " 'edge': 669,\n",
       " 'zetasupplies': 670,\n",
       " 'autopilot': 671,\n",
       " 'month': 672,\n",
       " 'goes': 673,\n",
       " 'eyes': 674,\n",
       " 'button': 675,\n",
       " 'through': 676,\n",
       " 'guy': 677,\n",
       " 'imac': 678,\n",
       " 'vocation': 679,\n",
       " 'khaoko': 680,\n",
       " 'ilce': 681,\n",
       " 'xd': 682,\n",
       " 'japan': 683,\n",
       " 'tomorrow': 684,\n",
       " 'times': 685,\n",
       " 'mirror': 686,\n",
       " 'light': 687,\n",
       " 'proud': 688,\n",
       " 'shotoniphone': 689,\n",
       " 'away': 690,\n",
       " 'buying': 691,\n",
       " 'run': 692,\n",
       " 'id': 693,\n",
       " 'steemit': 694,\n",
       " 'sonylens': 695,\n",
       " 'sure': 696,\n",
       " 'gets': 697,\n",
       " 'card': 698,\n",
       " 'whole': 699,\n",
       " 'icloud': 700,\n",
       " 'movies': 701,\n",
       " 'kindle': 702,\n",
       " 'makeup': 703,\n",
       " 'full': 704,\n",
       " 'problem': 705,\n",
       " 'pop': 706,\n",
       " 'pie': 707,\n",
       " 'decor': 708,\n",
       " 'iphones': 709,\n",
       " 'user': 710,\n",
       " 'ask': 711,\n",
       " 'giving': 712,\n",
       " 'xperiaz': 713,\n",
       " 'delete': 714,\n",
       " 'less': 715,\n",
       " 'sleep': 716,\n",
       " 'emoji': 717,\n",
       " 'problems': 718,\n",
       " 'wedding': 719,\n",
       " 'gs': 720,\n",
       " 'send': 721,\n",
       " 'images': 722,\n",
       " 'school': 723,\n",
       " 'snapspeed': 724,\n",
       " 'annoying': 725,\n",
       " 'him': 726,\n",
       " 'cake': 727,\n",
       " 'fact': 728,\n",
       " 'videos': 729,\n",
       " 'la': 730,\n",
       " 'canon': 731,\n",
       " 'crap': 732,\n",
       " 'inch': 733,\n",
       " 'ur': 734,\n",
       " 'words': 735,\n",
       " 'unitedstate': 736,\n",
       " 'guitarplayer': 737,\n",
       " 'might': 738,\n",
       " 'holidays': 739,\n",
       " 'nike': 740,\n",
       " 'data': 741,\n",
       " 'city': 742,\n",
       " 'lot': 743,\n",
       " 'dogs': 744,\n",
       " 'woman': 745,\n",
       " 'set': 746,\n",
       " 'though': 747,\n",
       " 'true': 748,\n",
       " 'pcs': 749,\n",
       " 'yi': 750,\n",
       " 'al': 751,\n",
       " 'yesterday': 752,\n",
       " 'fit': 753,\n",
       " 'sick': 754,\n",
       " 'flowers': 755,\n",
       " 'decided': 756,\n",
       " 'ipadmini': 757,\n",
       " 'own': 758,\n",
       " 'flash': 759,\n",
       " 'moments': 760,\n",
       " 'were': 761,\n",
       " 'word': 762,\n",
       " 'went': 763,\n",
       " 'repair': 764,\n",
       " 'story': 765,\n",
       " 'likeforlike': 766,\n",
       " 'taking': 767,\n",
       " 'pics': 768,\n",
       " 'samsunggalaxys': 769,\n",
       " 'chocolate': 770,\n",
       " 'link': 771,\n",
       " 'order': 772,\n",
       " 'redbubble': 773,\n",
       " 'likes': 774,\n",
       " 'gear': 775,\n",
       " 'blackandwhite': 776,\n",
       " 'thankyou': 777,\n",
       " 'ny': 778,\n",
       " 'forever': 779,\n",
       " 'else': 780,\n",
       " 'lock': 781,\n",
       " 'date': 782,\n",
       " 'entrepreneur': 783,\n",
       " 'wtf': 784,\n",
       " 'sound': 785,\n",
       " 'looking': 786,\n",
       " 'street': 787,\n",
       " 'click': 788,\n",
       " 'purchase': 789,\n",
       " 'zeeland': 790,\n",
       " 'playing': 791,\n",
       " 'mind': 792,\n",
       " 'mother': 793,\n",
       " 'bestoftheday': 794,\n",
       " 'bright': 795,\n",
       " 'sonyphoto': 796,\n",
       " 'winter': 797,\n",
       " 'market': 798,\n",
       " 'simple': 799,\n",
       " 'dj': 800,\n",
       " 'iphonecase': 801,\n",
       " 'tonight': 802,\n",
       " 'tinyurl': 803,\n",
       " 'small': 804,\n",
       " 'shitty': 805,\n",
       " 'release': 806,\n",
       " 'totally': 807,\n",
       " 'account': 808,\n",
       " 'sim': 809,\n",
       " 'weeks': 810,\n",
       " 'messages': 811,\n",
       " 'rain': 812,\n",
       " 'men': 813,\n",
       " 'price': 814,\n",
       " 'such': 815,\n",
       " 'cant': 816,\n",
       " 'tag': 817,\n",
       " 'updates': 818,\n",
       " 'computers': 819,\n",
       " 'xmas': 820,\n",
       " 'europe': 821,\n",
       " 'believe': 822,\n",
       " 'daily': 823,\n",
       " 'sister': 824,\n",
       " 'miami': 825,\n",
       " 'both': 826,\n",
       " 'visit': 827,\n",
       " 'trump': 828,\n",
       " 'tuesday': 829,\n",
       " 'texts': 830,\n",
       " 'keeps': 831,\n",
       " 'yourself': 832,\n",
       " 'orange': 833,\n",
       " 'daddy': 834,\n",
       " 'online': 835,\n",
       " 'jun': 836,\n",
       " 'delicious': 837,\n",
       " 'touch': 838,\n",
       " 'wrong': 839,\n",
       " 'digital': 840,\n",
       " 'drink': 841,\n",
       " 'future': 842,\n",
       " 'completely': 843,\n",
       " 'haven': 844,\n",
       " 'keyboard': 845,\n",
       " 'glad': 846,\n",
       " 'guess': 847,\n",
       " 'room': 848,\n",
       " 'exquisite': 849,\n",
       " 'squishy': 850,\n",
       " 'charm': 851,\n",
       " 'straps': 852,\n",
       " 'giveawaypic': 853,\n",
       " 'sonyalpha': 854,\n",
       " 'cellphone': 855,\n",
       " 'saying': 856,\n",
       " 'different': 857,\n",
       " 'april': 858,\n",
       " 'space': 859,\n",
       " 'facetime': 860,\n",
       " 'smiles': 861,\n",
       " 'california': 862,\n",
       " 'mi': 863,\n",
       " 'film': 864,\n",
       " 'internet': 865,\n",
       " 'adorable': 866,\n",
       " 'photofeed': 867,\n",
       " 'feed': 868,\n",
       " 'canada': 869,\n",
       " 'yummy': 870,\n",
       " 'itself': 871,\n",
       " 'calendar': 872,\n",
       " 'nikon': 873,\n",
       " 'loves': 874,\n",
       " 'blackfriday': 875,\n",
       " 'numbers': 876,\n",
       " 'dance': 877,\n",
       " 'those': 878,\n",
       " 'kid': 879,\n",
       " 'wanna': 880,\n",
       " 'wont': 881,\n",
       " 'original': 882,\n",
       " 'post': 883,\n",
       " 'ootd': 884,\n",
       " 'high': 885,\n",
       " 'console': 886,\n",
       " 'tattoo': 887,\n",
       " 'least': 888,\n",
       " 'latest': 889,\n",
       " 'dead': 890,\n",
       " 'cracked': 891,\n",
       " 'indonesia': 892,\n",
       " 'applesucks': 893,\n",
       " 'sorry': 894,\n",
       " 'relationships': 895,\n",
       " 'message': 896,\n",
       " 'king': 897,\n",
       " 'thought': 898,\n",
       " 'special': 899,\n",
       " 'prophet': 900,\n",
       " 'bor': 901,\n",
       " 'kb': 902,\n",
       " 'asurcj': 903,\n",
       " 'boyfriend': 904,\n",
       " 'gotta': 905,\n",
       " 'iphonephotography': 906,\n",
       " 'tried': 907,\n",
       " 'hd': 908,\n",
       " 'mm': 909,\n",
       " 'lens': 910,\n",
       " 'sprint': 911,\n",
       " 'offer': 912,\n",
       " 'yum': 913,\n",
       " 'needs': 914,\n",
       " 'running': 915,\n",
       " 'bed': 916,\n",
       " 'breakfast': 917,\n",
       " 'unique': 918,\n",
       " 'newyork': 919,\n",
       " 'deal': 920,\n",
       " 'photobooth': 921,\n",
       " 'sorority': 922,\n",
       " 'hashtag': 923,\n",
       " 'bored': 924,\n",
       " 'webstagram': 925,\n",
       " 'fitness': 926,\n",
       " 'artist': 927,\n",
       " 'pet': 928,\n",
       " 'learn': 929,\n",
       " 'half': 930,\n",
       " 'email': 931,\n",
       " 'porn': 932,\n",
       " 'rs': 933,\n",
       " 'cut': 934,\n",
       " 'ipads': 935,\n",
       " 'aliusaexpress': 936,\n",
       " 'ht': 937,\n",
       " 'magic': 938,\n",
       " 'foodporn': 939,\n",
       " 'truth': 940,\n",
       " 'office': 941,\n",
       " 'sea': 942,\n",
       " 'line': 943,\n",
       " 'garden': 944,\n",
       " 'info': 945,\n",
       " 'march': 946,\n",
       " 'hi': 947,\n",
       " 'brother': 948,\n",
       " 'soul': 949,\n",
       " 'thx': 950,\n",
       " 'november': 951,\n",
       " 'talk': 952,\n",
       " 'stevejobs': 953,\n",
       " 'na': 954,\n",
       " 'few': 955,\n",
       " 'upgraded': 956,\n",
       " 'shoot': 957,\n",
       " 'ad': 958,\n",
       " 'goodnight': 959,\n",
       " 'together': 960,\n",
       " 'youtu': 961,\n",
       " 'subscribe': 962,\n",
       " 'thankful': 963,\n",
       " 'replaced': 964,\n",
       " 'sonyphotos': 965,\n",
       " 'almost': 966,\n",
       " 'rose': 967,\n",
       " 'passion': 968,\n",
       " 'sent': 969,\n",
       " 'dinner': 970,\n",
       " 'landscape': 971,\n",
       " 'team': 972,\n",
       " 'self': 973,\n",
       " 'january': 974,\n",
       " 'weather': 975,\n",
       " 'reposting': 976,\n",
       " 'rock': 977,\n",
       " 'throw': 978,\n",
       " 'purpose': 979,\n",
       " 'storage': 980,\n",
       " 'slow': 981,\n",
       " 'says': 982,\n",
       " 'vaio': 983,\n",
       " 'save': 984,\n",
       " 'reset': 985,\n",
       " 'lte': 986,\n",
       " 'takes': 987,\n",
       " 'wallpaper': 988,\n",
       " 'between': 989,\n",
       " 'tshirt': 990,\n",
       " 'apples': 991,\n",
       " 'later': 992,\n",
       " 'fall': 993,\n",
       " 'bye': 994,\n",
       " 'devices': 995,\n",
       " 'newtoy': 996,\n",
       " 'cl': 997,\n",
       " 'wireless': 998,\n",
       " 'smartphones': 999,\n",
       " 'bb': 1000,\n",
       " ...}"
      ]
     },
     "execution_count": 71,
     "metadata": {
      "tags": []
     },
     "output_type": "execute_result"
    }
   ],
   "source": [
    "x_tokenizer.word_index"
   ]
  },
  {
   "cell_type": "code",
   "execution_count": 72,
   "metadata": {
    "colab": {
     "base_uri": "https://localhost:8080/"
    },
    "executionInfo": {
     "elapsed": 904,
     "status": "ok",
     "timestamp": 1612976721157,
     "user": {
      "displayName": "aniket poojari",
      "photoUrl": "https://lh3.googleusercontent.com/a-/AOh14Ggq_cw5GlJ_HceHGjFtLxCCLPqiYvg5ffKS76adUw=s64",
      "userId": "09624879631889696305"
     },
     "user_tz": -330
    },
    "id": "Iu7gjN-C5sUk",
    "outputId": "0b57ee38-d13d-4c41-8b90-dd4e2fbce3fa"
   },
   "outputs": [
    {
     "data": {
      "text/plain": [
       "18964"
      ]
     },
     "execution_count": 72,
     "metadata": {
      "tags": []
     },
     "output_type": "execute_result"
    }
   ],
   "source": [
    "len(x_tokenizer.word_index)"
   ]
  },
  {
   "cell_type": "code",
   "execution_count": 73,
   "metadata": {
    "colab": {
     "base_uri": "https://localhost:8080/"
    },
    "executionInfo": {
     "elapsed": 897,
     "status": "ok",
     "timestamp": 1612976738400,
     "user": {
      "displayName": "aniket poojari",
      "photoUrl": "https://lh3.googleusercontent.com/a-/AOh14Ggq_cw5GlJ_HceHGjFtLxCCLPqiYvg5ffKS76adUw=s64",
      "userId": "09624879631889696305"
     },
     "user_tz": -330
    },
    "id": "Rwm0glS054kz",
    "outputId": "54901cc4-5bc8-462b-e17e-5918b49e017b"
   },
   "outputs": [
    {
     "name": "stdout",
     "output_type": "stream",
     "text": [
      "3824\n"
     ]
    }
   ],
   "source": [
    "# Keep words with freq > 3\n",
    "thresh = 3\n",
    "\n",
    "cnt=0\n",
    "for key,value in x_tokenizer.word_counts.items():\n",
    "  if value>=thresh:\n",
    "    cnt=cnt+1\n",
    "\n",
    "print(cnt)"
   ]
  },
  {
   "cell_type": "code",
   "execution_count": 74,
   "metadata": {
    "executionInfo": {
     "elapsed": 923,
     "status": "ok",
     "timestamp": 1612976807758,
     "user": {
      "displayName": "aniket poojari",
      "photoUrl": "https://lh3.googleusercontent.com/a-/AOh14Ggq_cw5GlJ_HceHGjFtLxCCLPqiYvg5ffKS76adUw=s64",
      "userId": "09624879631889696305"
     },
     "user_tz": -330
    },
    "id": "NEc6t1FI58yH"
   },
   "outputs": [],
   "source": [
    "x_tokenizer = Tokenizer(num_words=cnt,oov_token='unk')\n",
    "x_tokenizer.fit_on_texts(x_tr)"
   ]
  },
  {
   "cell_type": "code",
   "execution_count": 75,
   "metadata": {
    "executionInfo": {
     "elapsed": 1000,
     "status": "ok",
     "timestamp": 1612976826056,
     "user": {
      "displayName": "aniket poojari",
      "photoUrl": "https://lh3.googleusercontent.com/a-/AOh14Ggq_cw5GlJ_HceHGjFtLxCCLPqiYvg5ffKS76adUw=s64",
      "userId": "09624879631889696305"
     },
     "user_tz": -330
    },
    "id": "R7NZ2nTk6Ntv"
   },
   "outputs": [],
   "source": [
    "max_len = 100\n",
    "\n",
    "x_tr_seq = x_tokenizer.texts_to_sequences(x_tr) \n",
    "x_val_seq = x_tokenizer.texts_to_sequences(x_val)\n",
    "\n",
    "x_tr_seq = pad_sequences(x_tr_seq,  padding='post', maxlen=max_len)\n",
    "x_val_seq = pad_sequences(x_val_seq, padding='post', maxlen=max_len)"
   ]
  },
  {
   "cell_type": "code",
   "execution_count": 76,
   "metadata": {
    "colab": {
     "base_uri": "https://localhost:8080/"
    },
    "executionInfo": {
     "elapsed": 942,
     "status": "ok",
     "timestamp": 1612976837131,
     "user": {
      "displayName": "aniket poojari",
      "photoUrl": "https://lh3.googleusercontent.com/a-/AOh14Ggq_cw5GlJ_HceHGjFtLxCCLPqiYvg5ffKS76adUw=s64",
      "userId": "09624879631889696305"
     },
     "user_tz": -330
    },
    "id": "aNsOwtV-6SKl",
    "outputId": "d4b1c7e1-1e81-49b1-a471-205f5bcf51f9"
   },
   "outputs": [
    {
     "data": {
      "text/plain": [
       "3825"
      ]
     },
     "execution_count": 76,
     "metadata": {
      "tags": []
     },
     "output_type": "execute_result"
    }
   ],
   "source": [
    "x_voc_size = x_tokenizer.num_words + 1\n",
    "x_voc_size"
   ]
  },
  {
   "cell_type": "code",
   "execution_count": 77,
   "metadata": {
    "colab": {
     "base_uri": "https://localhost:8080/"
    },
    "executionInfo": {
     "elapsed": 918,
     "status": "ok",
     "timestamp": 1612976852808,
     "user": {
      "displayName": "aniket poojari",
      "photoUrl": "https://lh3.googleusercontent.com/a-/AOh14Ggq_cw5GlJ_HceHGjFtLxCCLPqiYvg5ffKS76adUw=s64",
      "userId": "09624879631889696305"
     },
     "user_tz": -330
    },
    "id": "6MdkNCTI6U4q",
    "outputId": "2008f846-8063-4ca9-d8d6-0a3e6ea116ba"
   },
   "outputs": [
    {
     "data": {
      "text/plain": [
       "array([ 105,   98,  790,   78,   34,   14,  633, 2351,    1, 1260,    5,\n",
       "         35,    9,    4,    6, 1975,    1,    0,    0,    0,    0,    0,\n",
       "          0,    0,    0,    0,    0,    0,    0,    0,    0,    0,    0,\n",
       "          0,    0,    0,    0,    0,    0,    0,    0,    0,    0,    0,\n",
       "          0,    0,    0,    0,    0,    0,    0,    0,    0,    0,    0,\n",
       "          0,    0,    0,    0,    0,    0,    0,    0,    0,    0,    0,\n",
       "          0,    0,    0,    0,    0,    0,    0,    0,    0,    0,    0,\n",
       "          0,    0,    0,    0,    0,    0,    0,    0,    0,    0,    0,\n",
       "          0,    0,    0,    0,    0,    0,    0,    0,    0,    0,    0,\n",
       "          0], dtype=int32)"
      ]
     },
     "execution_count": 77,
     "metadata": {
      "tags": []
     },
     "output_type": "execute_result"
    }
   ],
   "source": [
    "x_tr_seq[0]"
   ]
  },
  {
   "cell_type": "markdown",
   "metadata": {
    "id": "R35ap_nE67Oz"
   },
   "source": [
    "# MODEL BUILDING"
   ]
  },
  {
   "cell_type": "code",
   "execution_count": 84,
   "metadata": {
    "executionInfo": {
     "elapsed": 6584,
     "status": "ok",
     "timestamp": 1612977081253,
     "user": {
      "displayName": "aniket poojari",
      "photoUrl": "https://lh3.googleusercontent.com/a-/AOh14Ggq_cw5GlJ_HceHGjFtLxCCLPqiYvg5ffKS76adUw=s64",
      "userId": "09624879631889696305"
     },
     "user_tz": -330
    },
    "id": "Eim6s3vo6Yt5"
   },
   "outputs": [],
   "source": [
    "model = Sequential()\n",
    "model.add(Embedding(x_voc_size, 50, input_shape=(max_len,), mask_zero=True))\n",
    "model.add(SimpleRNN(128,activation='relu'))\n",
    "model.add(Dense(128,activation='relu')) \n",
    "model.add(Dense(1,activation='sigmoid'))"
   ]
  },
  {
   "cell_type": "code",
   "execution_count": 85,
   "metadata": {
    "colab": {
     "base_uri": "https://localhost:8080/"
    },
    "executionInfo": {
     "elapsed": 912,
     "status": "ok",
     "timestamp": 1612977097669,
     "user": {
      "displayName": "aniket poojari",
      "photoUrl": "https://lh3.googleusercontent.com/a-/AOh14Ggq_cw5GlJ_HceHGjFtLxCCLPqiYvg5ffKS76adUw=s64",
      "userId": "09624879631889696305"
     },
     "user_tz": -330
    },
    "id": "EOWCfqla6qG0",
    "outputId": "3e98c691-9c24-4dde-c7b9-7439896553bd"
   },
   "outputs": [
    {
     "name": "stdout",
     "output_type": "stream",
     "text": [
      "Model: \"sequential\"\n",
      "_________________________________________________________________\n",
      "Layer (type)                 Output Shape              Param #   \n",
      "=================================================================\n",
      "embedding (Embedding)        (None, 100, 50)           191250    \n",
      "_________________________________________________________________\n",
      "simple_rnn (SimpleRNN)       (None, 128)               22912     \n",
      "_________________________________________________________________\n",
      "dense (Dense)                (None, 128)               16512     \n",
      "_________________________________________________________________\n",
      "dense_1 (Dense)              (None, 1)                 129       \n",
      "=================================================================\n",
      "Total params: 230,803\n",
      "Trainable params: 230,803\n",
      "Non-trainable params: 0\n",
      "_________________________________________________________________\n"
     ]
    }
   ],
   "source": [
    "model.summary()"
   ]
  },
  {
   "cell_type": "code",
   "execution_count": 86,
   "metadata": {
    "executionInfo": {
     "elapsed": 971,
     "status": "ok",
     "timestamp": 1612977181193,
     "user": {
      "displayName": "aniket poojari",
      "photoUrl": "https://lh3.googleusercontent.com/a-/AOh14Ggq_cw5GlJ_HceHGjFtLxCCLPqiYvg5ffKS76adUw=s64",
      "userId": "09624879631889696305"
     },
     "user_tz": -330
    },
    "id": "QQuVEKsZ7UgC"
   },
   "outputs": [],
   "source": [
    "model.compile(optimizer='adam',loss='binary_crossentropy')"
   ]
  },
  {
   "cell_type": "code",
   "execution_count": 87,
   "metadata": {
    "executionInfo": {
     "elapsed": 952,
     "status": "ok",
     "timestamp": 1612977206598,
     "user": {
      "displayName": "aniket poojari",
      "photoUrl": "https://lh3.googleusercontent.com/a-/AOh14Ggq_cw5GlJ_HceHGjFtLxCCLPqiYvg5ffKS76adUw=s64",
      "userId": "09624879631889696305"
     },
     "user_tz": -330
    },
    "id": "pwkRmX6J7o4A"
   },
   "outputs": [],
   "source": [
    "mc = ModelCheckpoint(\"weights.best.hdf5\", monitor='val_loss', verbose=1, save_best_only=True, mode='min')"
   ]
  },
  {
   "cell_type": "code",
   "execution_count": 88,
   "metadata": {
    "colab": {
     "base_uri": "https://localhost:8080/"
    },
    "executionInfo": {
     "elapsed": 72008,
     "status": "ok",
     "timestamp": 1612977287752,
     "user": {
      "displayName": "aniket poojari",
      "photoUrl": "https://lh3.googleusercontent.com/a-/AOh14Ggq_cw5GlJ_HceHGjFtLxCCLPqiYvg5ffKS76adUw=s64",
      "userId": "09624879631889696305"
     },
     "user_tz": -330
    },
    "id": "xIYStj0h7vFk",
    "outputId": "9b0d28d1-efc1-4a35-d887-c01d1ff262c3"
   },
   "outputs": [
    {
     "name": "stdout",
     "output_type": "stream",
     "text": [
      "Epoch 1/10\n",
      "50/50 [==============================] - 9s 134ms/step - loss: 0.5670 - val_loss: 0.3299\n",
      "\n",
      "Epoch 00001: val_loss improved from inf to 0.32992, saving model to weights.best.hdf5\n",
      "Epoch 2/10\n",
      "50/50 [==============================] - 7s 136ms/step - loss: 0.2825 - val_loss: 0.2762\n",
      "\n",
      "Epoch 00002: val_loss improved from 0.32992 to 0.27620, saving model to weights.best.hdf5\n",
      "Epoch 3/10\n",
      "50/50 [==============================] - 7s 133ms/step - loss: 0.1888 - val_loss: 0.3074\n",
      "\n",
      "Epoch 00003: val_loss did not improve from 0.27620\n",
      "Epoch 4/10\n",
      "50/50 [==============================] - 7s 133ms/step - loss: 0.1314 - val_loss: 0.3286\n",
      "\n",
      "Epoch 00004: val_loss did not improve from 0.27620\n",
      "Epoch 5/10\n",
      "50/50 [==============================] - 7s 134ms/step - loss: 0.0959 - val_loss: 0.4796\n",
      "\n",
      "Epoch 00005: val_loss did not improve from 0.27620\n",
      "Epoch 6/10\n",
      "50/50 [==============================] - 7s 138ms/step - loss: 0.0807 - val_loss: 0.4509\n",
      "\n",
      "Epoch 00006: val_loss did not improve from 0.27620\n",
      "Epoch 7/10\n",
      "50/50 [==============================] - 7s 137ms/step - loss: 0.0520 - val_loss: 0.6441\n",
      "\n",
      "Epoch 00007: val_loss did not improve from 0.27620\n",
      "Epoch 8/10\n",
      "50/50 [==============================] - 7s 141ms/step - loss: 0.0531 - val_loss: 0.4753\n",
      "\n",
      "Epoch 00008: val_loss did not improve from 0.27620\n",
      "Epoch 9/10\n",
      "50/50 [==============================] - 7s 141ms/step - loss: 0.0486 - val_loss: 0.5792\n",
      "\n",
      "Epoch 00009: val_loss did not improve from 0.27620\n",
      "Epoch 10/10\n",
      "50/50 [==============================] - 7s 142ms/step - loss: 0.0452 - val_loss: 0.6327\n",
      "\n",
      "Epoch 00010: val_loss did not improve from 0.27620\n"
     ]
    },
    {
     "data": {
      "text/plain": [
       "<tensorflow.python.keras.callbacks.History at 0x7fb40cf41978>"
      ]
     },
     "execution_count": 88,
     "metadata": {
      "tags": []
     },
     "output_type": "execute_result"
    }
   ],
   "source": [
    "model.fit(x_tr_seq, y_tr, batch_size=128, epochs=10, verbose=1, validation_data=(x_val_seq, y_val), callbacks=[mc])"
   ]
  },
  {
   "cell_type": "code",
   "execution_count": 89,
   "metadata": {
    "executionInfo": {
     "elapsed": 963,
     "status": "ok",
     "timestamp": 1612977449841,
     "user": {
      "displayName": "aniket poojari",
      "photoUrl": "https://lh3.googleusercontent.com/a-/AOh14Ggq_cw5GlJ_HceHGjFtLxCCLPqiYvg5ffKS76adUw=s64",
      "userId": "09624879631889696305"
     },
     "user_tz": -330
    },
    "id": "9hq_1esK7xjE"
   },
   "outputs": [],
   "source": [
    "model.load_weights(\"weights.best.hdf5\")"
   ]
  },
  {
   "cell_type": "code",
   "execution_count": 90,
   "metadata": {
    "executionInfo": {
     "elapsed": 1473,
     "status": "ok",
     "timestamp": 1612977468177,
     "user": {
      "displayName": "aniket poojari",
      "photoUrl": "https://lh3.googleusercontent.com/a-/AOh14Ggq_cw5GlJ_HceHGjFtLxCCLPqiYvg5ffKS76adUw=s64",
      "userId": "09624879631889696305"
     },
     "user_tz": -330
    },
    "id": "arxfec368qdl"
   },
   "outputs": [],
   "source": [
    "pred_prob = model.predict(x_val_seq)"
   ]
  },
  {
   "cell_type": "code",
   "execution_count": 91,
   "metadata": {
    "colab": {
     "base_uri": "https://localhost:8080/"
    },
    "executionInfo": {
     "elapsed": 1021,
     "status": "ok",
     "timestamp": 1612977476023,
     "user": {
      "displayName": "aniket poojari",
      "photoUrl": "https://lh3.googleusercontent.com/a-/AOh14Ggq_cw5GlJ_HceHGjFtLxCCLPqiYvg5ffKS76adUw=s64",
      "userId": "09624879631889696305"
     },
     "user_tz": -330
    },
    "id": "OAnyt_Qv8u0Z",
    "outputId": "0df1ef9c-5359-4257-9149-04fad38b3204"
   },
   "outputs": [
    {
     "data": {
      "text/plain": [
       "array([0.00255732], dtype=float32)"
      ]
     },
     "execution_count": 91,
     "metadata": {
      "tags": []
     },
     "output_type": "execute_result"
    }
   ],
   "source": [
    "pred_prob[0]"
   ]
  },
  {
   "cell_type": "code",
   "execution_count": 94,
   "metadata": {
    "colab": {
     "base_uri": "https://localhost:8080/"
    },
    "executionInfo": {
     "elapsed": 950,
     "status": "ok",
     "timestamp": 1612977545881,
     "user": {
      "displayName": "aniket poojari",
      "photoUrl": "https://lh3.googleusercontent.com/a-/AOh14Ggq_cw5GlJ_HceHGjFtLxCCLPqiYvg5ffKS76adUw=s64",
      "userId": "09624879631889696305"
     },
     "user_tz": -330
    },
    "id": "BhJT-u_l8w18",
    "outputId": "7beb8c1d-8dcf-4912-e302-8a7fc794afbb"
   },
   "outputs": [
    {
     "data": {
      "text/plain": [
       "array([0.  , 0.01, 0.02, 0.03, 0.04, 0.05, 0.06, 0.07, 0.08, 0.09, 0.1 ,\n",
       "       0.11, 0.12, 0.13, 0.14, 0.15, 0.16, 0.17, 0.18, 0.19, 0.2 , 0.21,\n",
       "       0.22, 0.23, 0.24, 0.25, 0.26, 0.27, 0.28, 0.29, 0.3 , 0.31, 0.32,\n",
       "       0.33, 0.34, 0.35, 0.36, 0.37, 0.38, 0.39, 0.4 , 0.41, 0.42, 0.43,\n",
       "       0.44, 0.45, 0.46, 0.47, 0.48, 0.49])"
      ]
     },
     "execution_count": 94,
     "metadata": {
      "tags": []
     },
     "output_type": "execute_result"
    }
   ],
   "source": [
    "#define candidate threshold values\n",
    "threshold  = np.arange(0,0.5,0.01)\n",
    "threshold"
   ]
  },
  {
   "cell_type": "code",
   "execution_count": 95,
   "metadata": {
    "executionInfo": {
     "elapsed": 1034,
     "status": "ok",
     "timestamp": 1612977618672,
     "user": {
      "displayName": "aniket poojari",
      "photoUrl": "https://lh3.googleusercontent.com/a-/AOh14Ggq_cw5GlJ_HceHGjFtLxCCLPqiYvg5ffKS76adUw=s64",
      "userId": "09624879631889696305"
     },
     "user_tz": -330
    },
    "id": "qC9eZYmP86oz"
   },
   "outputs": [],
   "source": [
    "# convert probabilities into classes or tags based on a threshold value\n",
    "def classify(pred_prob,thresh):\n",
    "  y_pred = []\n",
    "\n",
    "  for i in pred_prob:\n",
    "    if i>=thresh:\n",
    "      y_pred.append(1)\n",
    "    else:\n",
    "      y_pred.append(0)\n",
    "\n",
    "  return y_pred"
   ]
  },
  {
   "cell_type": "code",
   "execution_count": 100,
   "metadata": {
    "executionInfo": {
     "elapsed": 1035,
     "status": "ok",
     "timestamp": 1612977725897,
     "user": {
      "displayName": "aniket poojari",
      "photoUrl": "https://lh3.googleusercontent.com/a-/AOh14Ggq_cw5GlJ_HceHGjFtLxCCLPqiYvg5ffKS76adUw=s64",
      "userId": "09624879631889696305"
     },
     "user_tz": -330
    },
    "id": "L3XqHjUo9Tp6"
   },
   "outputs": [],
   "source": [
    "score=[]\n",
    "\n",
    "for thresh in threshold:\n",
    "    y_pred = classify(pred_prob,thresh) \n",
    "    score.append(metrics.f1_score(y_val,y_pred))"
   ]
  },
  {
   "cell_type": "code",
   "execution_count": 101,
   "metadata": {
    "colab": {
     "base_uri": "https://localhost:8080/"
    },
    "executionInfo": {
     "elapsed": 1026,
     "status": "ok",
     "timestamp": 1612977744833,
     "user": {
      "displayName": "aniket poojari",
      "photoUrl": "https://lh3.googleusercontent.com/a-/AOh14Ggq_cw5GlJ_HceHGjFtLxCCLPqiYvg5ffKS76adUw=s64",
      "userId": "09624879631889696305"
     },
     "user_tz": -330
    },
    "id": "JKH6t5nK9hTv",
    "outputId": "6e60da9e-82a8-469c-9fd5-ffb563bc0870"
   },
   "outputs": [
    {
     "data": {
      "text/plain": [
       "0.44"
      ]
     },
     "execution_count": 101,
     "metadata": {
      "tags": []
     },
     "output_type": "execute_result"
    }
   ],
   "source": [
    "opt = threshold[score.index(max(score))]\n",
    "opt"
   ]
  },
  {
   "cell_type": "markdown",
   "metadata": {
    "id": "9lhc4GzU92po"
   },
   "source": [
    "# MODEL EVALUATION"
   ]
  },
  {
   "cell_type": "code",
   "execution_count": 102,
   "metadata": {
    "executionInfo": {
     "elapsed": 887,
     "status": "ok",
     "timestamp": 1612977786597,
     "user": {
      "displayName": "aniket poojari",
      "photoUrl": "https://lh3.googleusercontent.com/a-/AOh14Ggq_cw5GlJ_HceHGjFtLxCCLPqiYvg5ffKS76adUw=s64",
      "userId": "09624879631889696305"
     },
     "user_tz": -330
    },
    "id": "W7C6bYt29yeK"
   },
   "outputs": [],
   "source": [
    "y_pred = classify(pred_prob,opt)"
   ]
  },
  {
   "cell_type": "code",
   "execution_count": 103,
   "metadata": {
    "colab": {
     "base_uri": "https://localhost:8080/"
    },
    "executionInfo": {
     "elapsed": 1019,
     "status": "ok",
     "timestamp": 1612977814505,
     "user": {
      "displayName": "aniket poojari",
      "photoUrl": "https://lh3.googleusercontent.com/a-/AOh14Ggq_cw5GlJ_HceHGjFtLxCCLPqiYvg5ffKS76adUw=s64",
      "userId": "09624879631889696305"
     },
     "user_tz": -330
    },
    "id": "_2Sgt9le98s2",
    "outputId": "5e2964c5-d967-48d9-8ca2-917ff2d21a31"
   },
   "outputs": [
    {
     "name": "stdout",
     "output_type": "stream",
     "text": [
      "              precision    recall  f1-score   support\n",
      "\n",
      "           0       0.96      0.88      0.92      1178\n",
      "           1       0.72      0.90      0.80       406\n",
      "\n",
      "    accuracy                           0.89      1584\n",
      "   macro avg       0.84      0.89      0.86      1584\n",
      "weighted avg       0.90      0.89      0.89      1584\n",
      "\n"
     ]
    }
   ],
   "source": [
    "print(metrics.classification_report(y_val,y_pred))"
   ]
  },
  {
   "cell_type": "markdown",
   "metadata": {
    "id": "sNyk92Iw-QaZ"
   },
   "source": [
    "# PREDICT INDIVIDUAL"
   ]
  },
  {
   "cell_type": "code",
   "execution_count": 133,
   "metadata": {
    "executionInfo": {
     "elapsed": 1883,
     "status": "ok",
     "timestamp": 1612978974602,
     "user": {
      "displayName": "aniket poojari",
      "photoUrl": "https://lh3.googleusercontent.com/a-/AOh14Ggq_cw5GlJ_HceHGjFtLxCCLPqiYvg5ffKS76adUw=s64",
      "userId": "09624879631889696305"
     },
     "user_tz": -330
    },
    "id": "khW7SUeH-Dd0"
   },
   "outputs": [],
   "source": [
    "def predict_tag(comment):  \n",
    "\n",
    "  text = [cleaner(comment)]\n",
    "\n",
    "  seq = x_tokenizer.texts_to_sequences(text)\n",
    "\n",
    "  pad_seq = pad_sequences(seq,  padding='post', maxlen=max_len)\n",
    "\n",
    "  pred_prob = model.predict(pad_seq)[0]\n",
    "  classes = classify(pred_prob,opt)[0]\n",
    "\n",
    "  if classes == 0:\n",
    "    return \"HAPPY\"\n",
    "  else:\n",
    "    return \"UNHAPPY\""
   ]
  },
  {
   "cell_type": "code",
   "execution_count": 134,
   "metadata": {
    "colab": {
     "base_uri": "https://localhost:8080/",
     "height": 35
    },
    "executionInfo": {
     "elapsed": 2185,
     "status": "ok",
     "timestamp": 1612978977552,
     "user": {
      "displayName": "aniket poojari",
      "photoUrl": "https://lh3.googleusercontent.com/a-/AOh14Ggq_cw5GlJ_HceHGjFtLxCCLPqiYvg5ffKS76adUw=s64",
      "userId": "09624879631889696305"
     },
     "user_tz": -330
    },
    "id": "pBFxJ3Ra-dru",
    "outputId": "f53cf865-a252-4727-ec8c-4b092aeb69ef"
   },
   "outputs": [
    {
     "data": {
      "application/vnd.google.colaboratory.intrinsic+json": {
       "type": "string"
      },
      "text/plain": [
       "'UNHAPPY'"
      ]
     },
     "execution_count": 134,
     "metadata": {
      "tags": []
     },
     "output_type": "execute_result"
    }
   ],
   "source": [
    "predict_tag(\"what a disgusting service\")"
   ]
  },
  {
   "cell_type": "markdown",
   "metadata": {
    "id": "3FIHvQ4KCh4z"
   },
   "source": [
    "# TEST DATA"
   ]
  },
  {
   "cell_type": "code",
   "execution_count": 135,
   "metadata": {
    "executionInfo": {
     "elapsed": 2335,
     "status": "ok",
     "timestamp": 1612979055778,
     "user": {
      "displayName": "aniket poojari",
      "photoUrl": "https://lh3.googleusercontent.com/a-/AOh14Ggq_cw5GlJ_HceHGjFtLxCCLPqiYvg5ffKS76adUw=s64",
      "userId": "09624879631889696305"
     },
     "user_tz": -330
    },
    "id": "EuzKDEIm-vWP"
   },
   "outputs": [],
   "source": [
    "df_test = pd.read_csv('drive/MyDrive/Sentiment-Detection/test.csv',encoding='latin-1')"
   ]
  },
  {
   "cell_type": "code",
   "execution_count": 136,
   "metadata": {
    "colab": {
     "base_uri": "https://localhost:8080/",
     "height": 195
    },
    "executionInfo": {
     "elapsed": 962,
     "status": "ok",
     "timestamp": 1612979070883,
     "user": {
      "displayName": "aniket poojari",
      "photoUrl": "https://lh3.googleusercontent.com/a-/AOh14Ggq_cw5GlJ_HceHGjFtLxCCLPqiYvg5ffKS76adUw=s64",
      "userId": "09624879631889696305"
     },
     "user_tz": -330
    },
    "id": "0PLFp5_CCyNG",
    "outputId": "7342475e-5049-49c9-ef88-86b174cbefd7"
   },
   "outputs": [
    {
     "data": {
      "text/html": [
       "<div>\n",
       "<style scoped>\n",
       "    .dataframe tbody tr th:only-of-type {\n",
       "        vertical-align: middle;\n",
       "    }\n",
       "\n",
       "    .dataframe tbody tr th {\n",
       "        vertical-align: top;\n",
       "    }\n",
       "\n",
       "    .dataframe thead th {\n",
       "        text-align: right;\n",
       "    }\n",
       "</style>\n",
       "<table border=\"1\" class=\"dataframe\">\n",
       "  <thead>\n",
       "    <tr style=\"text-align: right;\">\n",
       "      <th></th>\n",
       "      <th>id</th>\n",
       "      <th>tweet</th>\n",
       "    </tr>\n",
       "  </thead>\n",
       "  <tbody>\n",
       "    <tr>\n",
       "      <th>0</th>\n",
       "      <td>7921</td>\n",
       "      <td>I hate the new #iphone upgrade. Won't let me download apps. #ugh #apple sucks</td>\n",
       "    </tr>\n",
       "    <tr>\n",
       "      <th>1</th>\n",
       "      <td>7922</td>\n",
       "      <td>currently shitting my fucking pants. #apple #iMac #cashmoney #raddest #swagswagswag http://instagr.am/p/UUIS0bIBZo/</td>\n",
       "    </tr>\n",
       "    <tr>\n",
       "      <th>2</th>\n",
       "      <td>7923</td>\n",
       "      <td>I'd like to puts some CD-ROMS on my iPad, is that possible?' â Yes, but wouldn't that block the screen?\\n</td>\n",
       "    </tr>\n",
       "    <tr>\n",
       "      <th>3</th>\n",
       "      <td>7924</td>\n",
       "      <td>My ipod is officially dead. I lost all my pictures and videos from the 1D and 5sos concert,and from Vet Camp #hatinglife #sobbing</td>\n",
       "    </tr>\n",
       "    <tr>\n",
       "      <th>4</th>\n",
       "      <td>7925</td>\n",
       "      <td>Been fighting iTunes all night! I only want the music I $&amp;@*# paid for</td>\n",
       "    </tr>\n",
       "  </tbody>\n",
       "</table>\n",
       "</div>"
      ],
      "text/plain": [
       "     id                                                                                                                              tweet\n",
       "0  7921                                                      I hate the new #iphone upgrade. Won't let me download apps. #ugh #apple sucks\n",
       "1  7922                currently shitting my fucking pants. #apple #iMac #cashmoney #raddest #swagswagswag http://instagr.am/p/UUIS0bIBZo/\n",
       "2  7923                        I'd like to puts some CD-ROMS on my iPad, is that possible?' â Yes, but wouldn't that block the screen?\\n\n",
       "3  7924  My ipod is officially dead. I lost all my pictures and videos from the 1D and 5sos concert,and from Vet Camp #hatinglife #sobbing\n",
       "4  7925                                                             Been fighting iTunes all night! I only want the music I $&@*# paid for"
      ]
     },
     "execution_count": 136,
     "metadata": {
      "tags": []
     },
     "output_type": "execute_result"
    }
   ],
   "source": [
    "df_test.head()"
   ]
  },
  {
   "cell_type": "code",
   "execution_count": 139,
   "metadata": {
    "executionInfo": {
     "elapsed": 1906,
     "status": "ok",
     "timestamp": 1612979201435,
     "user": {
      "displayName": "aniket poojari",
      "photoUrl": "https://lh3.googleusercontent.com/a-/AOh14Ggq_cw5GlJ_HceHGjFtLxCCLPqiYvg5ffKS76adUw=s64",
      "userId": "09624879631889696305"
     },
     "user_tz": -330
    },
    "id": "xpyNIZbpC2Oy"
   },
   "outputs": [],
   "source": [
    "df_test[\"cleaned_text\"] = df_test[\"tweet\"].apply(cleaner)"
   ]
  },
  {
   "cell_type": "code",
   "execution_count": 141,
   "metadata": {
    "executionInfo": {
     "elapsed": 974,
     "status": "ok",
     "timestamp": 1612979268694,
     "user": {
      "displayName": "aniket poojari",
      "photoUrl": "https://lh3.googleusercontent.com/a-/AOh14Ggq_cw5GlJ_HceHGjFtLxCCLPqiYvg5ffKS76adUw=s64",
      "userId": "09624879631889696305"
     },
     "user_tz": -330
    },
    "id": "6EB8MGNeDCD6"
   },
   "outputs": [],
   "source": [
    "seq = x_tokenizer.texts_to_sequences(df_test[\"cleaned_text\"])"
   ]
  },
  {
   "cell_type": "code",
   "execution_count": 143,
   "metadata": {
    "executionInfo": {
     "elapsed": 853,
     "status": "ok",
     "timestamp": 1612979302569,
     "user": {
      "displayName": "aniket poojari",
      "photoUrl": "https://lh3.googleusercontent.com/a-/AOh14Ggq_cw5GlJ_HceHGjFtLxCCLPqiYvg5ffKS76adUw=s64",
      "userId": "09624879631889696305"
     },
     "user_tz": -330
    },
    "id": "a_xaFnKGDgF1"
   },
   "outputs": [],
   "source": [
    "pad = pad_sequences(seq,  padding='post', maxlen=max_len)"
   ]
  },
  {
   "cell_type": "code",
   "execution_count": 145,
   "metadata": {
    "executionInfo": {
     "elapsed": 1498,
     "status": "ok",
     "timestamp": 1612979339521,
     "user": {
      "displayName": "aniket poojari",
      "photoUrl": "https://lh3.googleusercontent.com/a-/AOh14Ggq_cw5GlJ_HceHGjFtLxCCLPqiYvg5ffKS76adUw=s64",
      "userId": "09624879631889696305"
     },
     "user_tz": -330
    },
    "id": "eXuhy0SIDqMh"
   },
   "outputs": [],
   "source": [
    "pred_prob = model.predict(pad)"
   ]
  },
  {
   "cell_type": "code",
   "execution_count": 147,
   "metadata": {
    "executionInfo": {
     "elapsed": 1115,
     "status": "ok",
     "timestamp": 1612979384748,
     "user": {
      "displayName": "aniket poojari",
      "photoUrl": "https://lh3.googleusercontent.com/a-/AOh14Ggq_cw5GlJ_HceHGjFtLxCCLPqiYvg5ffKS76adUw=s64",
      "userId": "09624879631889696305"
     },
     "user_tz": -330
    },
    "id": "5Bg9MRCiD1v1"
   },
   "outputs": [],
   "source": [
    "classes = classify(pred_prob,opt)"
   ]
  },
  {
   "cell_type": "markdown",
   "metadata": {
    "id": "UAdGf1ZzGuwC"
   },
   "source": [
    "# SAVE DATA"
   ]
  },
  {
   "cell_type": "code",
   "execution_count": 152,
   "metadata": {
    "executionInfo": {
     "elapsed": 876,
     "status": "ok",
     "timestamp": 1612979588955,
     "user": {
      "displayName": "aniket poojari",
      "photoUrl": "https://lh3.googleusercontent.com/a-/AOh14Ggq_cw5GlJ_HceHGjFtLxCCLPqiYvg5ffKS76adUw=s64",
      "userId": "09624879631889696305"
     },
     "user_tz": -330
    },
    "id": "v7MJWYXJD933"
   },
   "outputs": [],
   "source": [
    "submit = pd.DataFrame()"
   ]
  },
  {
   "cell_type": "code",
   "execution_count": 153,
   "metadata": {
    "executionInfo": {
     "elapsed": 1204,
     "status": "ok",
     "timestamp": 1612979609682,
     "user": {
      "displayName": "aniket poojari",
      "photoUrl": "https://lh3.googleusercontent.com/a-/AOh14Ggq_cw5GlJ_HceHGjFtLxCCLPqiYvg5ffKS76adUw=s64",
      "userId": "09624879631889696305"
     },
     "user_tz": -330
    },
    "id": "A2z6cMoKEUuR"
   },
   "outputs": [],
   "source": [
    "submit[\"id\"] = df_test.id"
   ]
  },
  {
   "cell_type": "code",
   "execution_count": 154,
   "metadata": {
    "executionInfo": {
     "elapsed": 907,
     "status": "ok",
     "timestamp": 1612979640474,
     "user": {
      "displayName": "aniket poojari",
      "photoUrl": "https://lh3.googleusercontent.com/a-/AOh14Ggq_cw5GlJ_HceHGjFtLxCCLPqiYvg5ffKS76adUw=s64",
      "userId": "09624879631889696305"
     },
     "user_tz": -330
    },
    "id": "nUZOePwBEZdK"
   },
   "outputs": [],
   "source": [
    "submit['label'] = classes"
   ]
  },
  {
   "cell_type": "code",
   "execution_count": 156,
   "metadata": {
    "colab": {
     "base_uri": "https://localhost:8080/",
     "height": 431
    },
    "executionInfo": {
     "elapsed": 1062,
     "status": "ok",
     "timestamp": 1612979771273,
     "user": {
      "displayName": "aniket poojari",
      "photoUrl": "https://lh3.googleusercontent.com/a-/AOh14Ggq_cw5GlJ_HceHGjFtLxCCLPqiYvg5ffKS76adUw=s64",
      "userId": "09624879631889696305"
     },
     "user_tz": -330
    },
    "id": "5I1YtyrnFBSE",
    "outputId": "18167193-c715-4415-dbda-88ae22c4b457"
   },
   "outputs": [
    {
     "data": {
      "text/html": [
       "<div>\n",
       "<style scoped>\n",
       "    .dataframe tbody tr th:only-of-type {\n",
       "        vertical-align: middle;\n",
       "    }\n",
       "\n",
       "    .dataframe tbody tr th {\n",
       "        vertical-align: top;\n",
       "    }\n",
       "\n",
       "    .dataframe thead th {\n",
       "        text-align: right;\n",
       "    }\n",
       "</style>\n",
       "<table border=\"1\" class=\"dataframe\">\n",
       "  <thead>\n",
       "    <tr style=\"text-align: right;\">\n",
       "      <th></th>\n",
       "      <th>label</th>\n",
       "    </tr>\n",
       "    <tr>\n",
       "      <th>id</th>\n",
       "      <th></th>\n",
       "    </tr>\n",
       "  </thead>\n",
       "  <tbody>\n",
       "    <tr>\n",
       "      <th>7921</th>\n",
       "      <td>1</td>\n",
       "    </tr>\n",
       "    <tr>\n",
       "      <th>7922</th>\n",
       "      <td>0</td>\n",
       "    </tr>\n",
       "    <tr>\n",
       "      <th>7923</th>\n",
       "      <td>1</td>\n",
       "    </tr>\n",
       "    <tr>\n",
       "      <th>7924</th>\n",
       "      <td>1</td>\n",
       "    </tr>\n",
       "    <tr>\n",
       "      <th>7925</th>\n",
       "      <td>1</td>\n",
       "    </tr>\n",
       "    <tr>\n",
       "      <th>...</th>\n",
       "      <td>...</td>\n",
       "    </tr>\n",
       "    <tr>\n",
       "      <th>9869</th>\n",
       "      <td>0</td>\n",
       "    </tr>\n",
       "    <tr>\n",
       "      <th>9870</th>\n",
       "      <td>0</td>\n",
       "    </tr>\n",
       "    <tr>\n",
       "      <th>9871</th>\n",
       "      <td>1</td>\n",
       "    </tr>\n",
       "    <tr>\n",
       "      <th>9872</th>\n",
       "      <td>1</td>\n",
       "    </tr>\n",
       "    <tr>\n",
       "      <th>9873</th>\n",
       "      <td>0</td>\n",
       "    </tr>\n",
       "  </tbody>\n",
       "</table>\n",
       "<p>1953 rows × 1 columns</p>\n",
       "</div>"
      ],
      "text/plain": [
       "      label\n",
       "id         \n",
       "7921      1\n",
       "7922      0\n",
       "7923      1\n",
       "7924      1\n",
       "7925      1\n",
       "...     ...\n",
       "9869      0\n",
       "9870      0\n",
       "9871      1\n",
       "9872      1\n",
       "9873      0\n",
       "\n",
       "[1953 rows x 1 columns]"
      ]
     },
     "execution_count": 156,
     "metadata": {
      "tags": []
     },
     "output_type": "execute_result"
    }
   ],
   "source": [
    "submit.set_index('id')"
   ]
  },
  {
   "cell_type": "code",
   "execution_count": 158,
   "metadata": {
    "executionInfo": {
     "elapsed": 1839,
     "status": "ok",
     "timestamp": 1612980018763,
     "user": {
      "displayName": "aniket poojari",
      "photoUrl": "https://lh3.googleusercontent.com/a-/AOh14Ggq_cw5GlJ_HceHGjFtLxCCLPqiYvg5ffKS76adUw=s64",
      "userId": "09624879631889696305"
     },
     "user_tz": -330
    },
    "id": "iUBY---EFDTR"
   },
   "outputs": [],
   "source": [
    "submit.to_csv('submit.csv', index=False)"
   ]
  },
  {
   "cell_type": "code",
   "execution_count": null,
   "metadata": {
    "id": "tu3nILb4F1iN"
   },
   "outputs": [],
   "source": []
  }
 ],
 "metadata": {
  "accelerator": "GPU",
  "colab": {
   "authorship_tag": "ABX9TyNXpeFsUccuycIBXg7DviHu",
   "collapsed_sections": [],
   "name": "Untitled0.ipynb",
   "provenance": []
  },
  "kernelspec": {
   "display_name": "Python 3",
   "language": "python",
   "name": "python3"
  },
  "language_info": {
   "codemirror_mode": {
    "name": "ipython",
    "version": 3
   },
   "file_extension": ".py",
   "mimetype": "text/x-python",
   "name": "python",
   "nbconvert_exporter": "python",
   "pygments_lexer": "ipython3",
   "version": "3.8.5"
  }
 },
 "nbformat": 4,
 "nbformat_minor": 1
}
